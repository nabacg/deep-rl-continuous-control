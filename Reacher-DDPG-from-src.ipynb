{
 "cells": [
  {
   "cell_type": "code",
   "execution_count": 1,
   "metadata": {},
   "outputs": [],
   "source": [
    "%load_ext autoreload\n",
    "%autoreload 2\n",
    "%matplotlib inline"
   ]
  },
  {
   "cell_type": "markdown",
   "metadata": {},
   "source": [
    "## Unity Env setup"
   ]
  },
  {
   "cell_type": "code",
   "execution_count": 2,
   "metadata": {},
   "outputs": [],
   "source": [
    "from unityagents import UnityEnvironment"
   ]
  },
  {
   "cell_type": "code",
   "execution_count": 3,
   "metadata": {},
   "outputs": [
    {
     "name": "stderr",
     "output_type": "stream",
     "text": [
      "INFO:unityagents:\n",
      "'Academy' started successfully!\n",
      "Unity Academy name: Academy\n",
      "        Number of Brains: 1\n",
      "        Number of External Brains : 1\n",
      "        Lesson number : 0\n",
      "        Reset Parameters :\n",
      "\t\tgoal_speed -> 1.0\n",
      "\t\tgoal_size -> 5.0\n",
      "Unity brain name: ReacherBrain\n",
      "        Number of Visual Observations (per agent): 0\n",
      "        Vector Observation space type: continuous\n",
      "        Vector Observation space size (per agent): 33\n",
      "        Number of stacked Vector Observation: 1\n",
      "        Vector Action space type: continuous\n",
      "        Vector Action space size (per agent): 4\n",
      "        Vector Action descriptions: , , , \n"
     ]
    }
   ],
   "source": [
    "env = UnityEnvironment(file_name = \"Reacher.app\", no_graphics = True)"
   ]
  },
  {
   "cell_type": "code",
   "execution_count": 4,
   "metadata": {},
   "outputs": [],
   "source": [
    "# get the default brain\n",
    "brain_name = env.brain_names[0]\n",
    "brain = env.brains[brain_name]"
   ]
  },
  {
   "cell_type": "code",
   "execution_count": 5,
   "metadata": {},
   "outputs": [
    {
     "name": "stdout",
     "output_type": "stream",
     "text": [
      "Number of agents: 20\n",
      "Size of each action: 4\n",
      "There are 20 agents. Each observes a state with length: 33\n",
      "The state for the first agent looks like: [ 0.00000000e+00 -4.00000000e+00  0.00000000e+00  1.00000000e+00\n",
      " -0.00000000e+00 -0.00000000e+00 -4.37113883e-08  0.00000000e+00\n",
      "  0.00000000e+00  0.00000000e+00  0.00000000e+00  0.00000000e+00\n",
      "  0.00000000e+00  0.00000000e+00 -1.00000000e+01  0.00000000e+00\n",
      "  1.00000000e+00 -0.00000000e+00 -0.00000000e+00 -4.37113883e-08\n",
      "  0.00000000e+00  0.00000000e+00  0.00000000e+00  0.00000000e+00\n",
      "  0.00000000e+00  0.00000000e+00  5.75471878e+00 -1.00000000e+00\n",
      "  5.55726624e+00  0.00000000e+00  1.00000000e+00  0.00000000e+00\n",
      " -1.68164849e-01]\n"
     ]
    }
   ],
   "source": [
    "# reset the environment\n",
    "env_info = env.reset(train_mode=True)[brain_name]\n",
    "\n",
    "# number of agents\n",
    "num_agents = len(env_info.agents)\n",
    "print('Number of agents:', num_agents)\n",
    "\n",
    "# size of each action\n",
    "action_size = brain.vector_action_space_size\n",
    "print('Size of each action:', action_size)\n",
    "\n",
    "# examine the state space \n",
    "states = env_info.vector_observations\n",
    "state_size = states.shape[1]\n",
    "print('There are {} agents. Each observes a state with length: {}'.format(states.shape[0], state_size))\n",
    "print('The state for the first agent looks like:', states[0])  "
   ]
  },
  {
   "cell_type": "markdown",
   "metadata": {},
   "source": [
    "# Agent imports\n"
   ]
  },
  {
   "cell_type": "code",
   "execution_count": 19,
   "metadata": {},
   "outputs": [],
   "source": [
    "import os\n",
    "import sys\n",
    "import numpy as np\n",
    "import torch \n",
    "\n",
    "sys.path.append('src')\n",
    "from ddpg_agent import DdpgAgent\n",
    "from utils import train_agent, plot_scores_losses"
   ]
  },
  {
   "cell_type": "markdown",
   "metadata": {},
   "source": [
    "## Create Agent \n",
    "\n"
   ]
  },
  {
   "cell_type": "code",
   "execution_count": null,
   "metadata": {},
   "outputs": [],
   "source": [
    "BUFFER_SIZE = int(1e5)  # replay buffer size\n",
    "BATCH_SIZE = 128         # minibatch size\n",
    "GAMMA = 0.99            # discount factor\n",
    "TAU = 1e-3              # for soft update of target parameters               \n",
    "LR_ACTOR = 1e-4         # learning rate of the actor \n",
    "LR_CRITIC = 1e-3        # learning rate of the critic\n",
    "\n",
    "UPDATE_EVERY = 1        # how often to update the network\n",
    "WEIGHT_DECAY = 1e-2\n",
    "\n",
    "device = torch.device(\"cuda:0\" if torch.cuda.is_available() else \"cpu\")\n",
    "\n",
    "agent = DdpgAgent(state_size  = state_size, \n",
    "                 action_size = action_size, \n",
    "                 num_agents = num_agents,\n",
    "                 seed=2,\n",
    "                batch_size=BATCH_SIZE,\n",
    "                buffer_size=BUFFER_SIZE,\n",
    "                actor_lr=LR_ACTOR,\n",
    "                critic_lr=LR_CRITIC,\n",
    "                weight_decay=WEIGHT_DECAY,\n",
    "                tau=TAU,\n",
    "                update_every=UPDATE_EVERY,\n",
    "                gamma = GAMMA,\n",
    "                device = device,\n",
    "                checkpoint_dir = \"checkpoints\")"
   ]
  },
  {
   "cell_type": "code",
   "execution_count": null,
   "metadata": {
    "scrolled": true
   },
   "outputs": [
    {
     "name": "stdout",
     "output_type": "stream",
     "text": [
      "Episode 10\tAverage Score: 0.49\n"
     ]
    },
    {
     "data": {
      "image/png": "[encoded data removed]",
      "text/plain": [
       "<Figure size 432x288 with 1 Axes>"
      ]
     },
     "metadata": {
      "needs_background": "light"
     },
     "output_type": "display_data"
    },
    {
     "data": {
      "image/png": "[encoded data removed]",
      "text/plain": [
       "<Figure size 432x288 with 1 Axes>"
      ]
     },
     "metadata": {
      "needs_background": "light"
     },
     "output_type": "display_data"
    },
    {
     "data": {
      "image/png": "[encoded data removed]",
      "text/plain": [
       "<Figure size 432x288 with 1 Axes>"
      ]
     },
     "metadata": {
      "needs_background": "light"
     },
     "output_type": "display_data"
    },
    {
     "data": {
      "image/png": "[encoded data removed]",
      "text/plain": [
       "<Figure size 432x288 with 1 Axes>"
      ]
     },
     "metadata": {
      "needs_background": "light"
     },
     "output_type": "display_data"
    },
    {
     "name": "stdout",
     "output_type": "stream",
     "text": [
      "Episode 20\tAverage Score: 0.46\n"
     ]
    },
    {
     "data": {
      "image/png": "[encoded data removed]",
      "text/plain": [
       "<Figure size 432x288 with 1 Axes>"
      ]
     },
     "metadata": {
      "needs_background": "light"
     },
     "output_type": "display_data"
    },
    {
     "data": {
      "image/png": "[encoded data removed]",
      "text/plain": [
       "<Figure size 432x288 with 1 Axes>"
      ]
     },
     "metadata": {
      "needs_background": "light"
     },
     "output_type": "display_data"
    },
    {
     "data": {
      "image/png": "[encoded data removed]",
      "text/plain": [
       "<Figure size 432x288 with 1 Axes>"
      ]
     },
     "metadata": {
      "needs_background": "light"
     },
     "output_type": "display_data"
    },
    {
     "data": {
      "image/png": "[encoded data removed]",
      "text/plain": [
       "<Figure size 432x288 with 1 Axes>"
      ]
     },
     "metadata": {
      "needs_background": "light"
     },
     "output_type": "display_data"
    },
    {
     "name": "stdout",
     "output_type": "stream",
     "text": [
      "\r",
      "Episode 21\tAverage Score: 0.46"
     ]
    }
   ],
   "source": [
    "train_agent(num_agents, agent, env, \n",
    "                      target_mean_score=30.0, \n",
    "                      output_weights=\"final_weights.pth\", \n",
    "                      n_episodes=200)"
   ]
  },
  {
   "cell_type": "code",
   "execution_count": 1,
   "metadata": {},
   "outputs": [
    {
     "ename": "ModuleNotFoundError",
     "evalue": "No module named 'model'",
     "output_type": "error",
     "traceback": [
      "\u001b[0;31m---------------------------------------------------------------------------\u001b[0m",
      "\u001b[0;31mModuleNotFoundError\u001b[0m                       Traceback (most recent call last)",
      "\u001b[0;32m<ipython-input-1-7cfaddac27f1>\u001b[0m in \u001b[0;36m<module>\u001b[0;34m\u001b[0m\n\u001b[0;32m----> 1\u001b[0;31m \u001b[0;32mfrom\u001b[0m \u001b[0mmodel\u001b[0m \u001b[0;32mimport\u001b[0m \u001b[0mCriticQNetwork\u001b[0m\u001b[0;34m,\u001b[0m \u001b[0mActorQNetwork\u001b[0m\u001b[0;34m\u001b[0m\u001b[0;34m\u001b[0m\u001b[0m\n\u001b[0m",
      "\u001b[0;31mModuleNotFoundError\u001b[0m: No module named 'model'"
     ]
    }
   ],
   "source": []
  },
  {
   "cell_type": "code",
   "execution_count": 6,
   "metadata": {},
   "outputs": [],
   "source": [
    "# model.py\n",
    "# Critic and Actor models\n",
    "\n",
    "import torch\n",
    "import torch.nn as nn\n",
    "import torch.nn.functional as F\n",
    "import numpy as np\n",
    "\n",
    "def hidden_init(layer):\n",
    "    fan_in = layer.weight.data.size()[0]\n",
    "    lim = 1. / np.sqrt(fan_in)\n",
    "    return (-lim, lim)\n",
    "\n",
    "class ActorQNetwork(nn.Module):\n",
    "    def __init__(self, state_size, action_size, seed, h_1_size = 256, h_2_size = 128):\n",
    "        super(ActorQNetwork, self).__init__()\n",
    "        self.seed = torch.manual_seed(seed)\n",
    "\n",
    "        self.fc_1 = nn.Linear(state_size, h_1_size)\n",
    "        self.fc_2 = nn.Linear(h_1_size, h_2_size)\n",
    "        self.output = nn.Linear(h_2_size, action_size)\n",
    "        self.reset_parameters()\n",
    "\n",
    "    def forward(self, state):\n",
    "        y = F.relu(self.fc_1(state))\n",
    "        y = F.relu(self.fc_2(y))\n",
    "        return F.tanh(self.output(y))\n",
    "    \n",
    "    def reset_parameters(self):\n",
    "        self.fc_1.weight.data.uniform_(*hidden_init(self.fc_1))\n",
    "        self.fc_2.weight.data.uniform_(*hidden_init(self.fc_2))\n",
    "        self.output.weight.data.uniform_(-3e-3, 3e-3)\n",
    "        \n",
    "\n",
    "class CriticQNetwork(nn.Module):\n",
    "    def __init__(self, state_size, action_size, seed, h_1_size = 256, h_2_size = 128):\n",
    "        super(CriticQNetwork, self).__init__()\n",
    "        self.seed = torch.manual_seed(seed)\n",
    "        \n",
    "        self.fc_1 = nn.Linear(state_size, h_1_size)\n",
    "        self.fc_2 = nn.Linear(h_1_size + action_size, h_2_size)\n",
    "        self.output = nn.Linear(h_2_size, 1)\n",
    "        \n",
    "    def forward(self, state, action):\n",
    "        y = F.relu(self.fc_1(state))\n",
    "        y = torch.cat((y, action), dim=1)\n",
    "        y = F.relu(self.fc_2(y))\n",
    "        return self.output(y)\n",
    "        \n",
    "        \n",
    "    def reset_parameters(self):\n",
    "        self.fc_1.weight.data.uniform_(*hidden_init(self.fc_1))\n",
    "        self.fc_2.weight.data.uniform_(*hidden_init(self.fc_2))\n",
    "        self.output.weight.data.uniform_(-3e-3, 3e-3)\n",
    "        \n",
    "        "
   ]
  },
  {
   "cell_type": "code",
   "execution_count": 7,
   "metadata": {},
   "outputs": [],
   "source": [
    "# utils\n",
    "# replaybuffer.py and noise.py\n",
    "import random \n",
    "import copy\n",
    "\n",
    "class OUNoise:\n",
    "    \"\"\"Ornstein-Uhlenbeck process.\"\"\"\n",
    "\n",
    "    def __init__(self, size, seed, mu=0., theta=0.15, sigma=0.2):\n",
    "        \"\"\"Initialize parameters and noise process.\"\"\"\n",
    "        self.size = size        \n",
    "        self.mu = mu * np.ones(size)\n",
    "        self.theta = theta\n",
    "        self.sigma = sigma        \n",
    "        self.seed = random.seed(seed)\n",
    "        self.reset()\n",
    "\n",
    "    def reset(self):\n",
    "        \"\"\"Reset the internal state (= noise) to mean (mu).\"\"\"\n",
    "        self.state = copy.copy(self.mu)\n",
    "\n",
    "    def sample(self):\n",
    "        \"\"\"Update internal state and return it as a noise sample.\"\"\"\n",
    "        x = self.state        \n",
    "        dx = self.theta * (self.mu - x) + self.sigma * np.random.standard_normal(self.size)\n",
    "        self.state = x + dx\n",
    "        return self.state\n",
    "    \n",
    "from collections import namedtuple, deque\n",
    "\n",
    "class ReplayBuffer:\n",
    "    \"\"\"Fixed-size buffer to store experience tuples.\"\"\"\n",
    "\n",
    "    def __init__(self, action_size, buffer_size, batch_size, seed, device):\n",
    "        \"\"\"Initialize a ReplayBuffer object.\n",
    "\n",
    "        Params\n",
    "        ======\n",
    "            action_size (int): dimension of each action\n",
    "            buffer_size (int): maximum size of buffer\n",
    "            batch_size (int): size of each training batch\n",
    "            seed (int): random seed\n",
    "        \"\"\"\n",
    "        self.device = device\n",
    "        self.action_size = action_size\n",
    "        self.memory = deque(maxlen=buffer_size)\n",
    "        self.batch_size = batch_size\n",
    "        self.experience = namedtuple(\"Experience\", field_names=[\"state\", \"action\", \"reward\", \"next_state\", \"done\"])\n",
    "        self.seed = random.seed(seed)\n",
    "\n",
    "    def add(self, state, action, reward, next_state, done):\n",
    "        \"\"\"Add a new experience to memory.\"\"\"\n",
    "        e = self.experience(state, action, reward, next_state, done)\n",
    "        self.memory.append(e)\n",
    "\n",
    "    def sample(self):\n",
    "        \"\"\"Randomly sample a batch of experiences from memory.\"\"\"\n",
    "        experiences = random.sample(self.memory, k=self.batch_size)\n",
    "\n",
    "        states = torch.from_numpy(np.vstack([e.state for e in experiences if e is not None])).float().to(self.device)\n",
    "        actions = torch.from_numpy(np.vstack([e.action for e in experiences if e is not None])).float().to(self.device)\n",
    "        rewards = torch.from_numpy(np.vstack([e.reward for e in experiences if e is not None])).float().to(self.device)\n",
    "        next_states = torch.from_numpy(np.vstack([e.next_state for e in experiences if e is not None])).float().to(self.device)\n",
    "        dones = torch.from_numpy(np.vstack([e.done for e in experiences if e is not None]).astype(np.uint8)).float().to(self.device)\n",
    "\n",
    "        return (states, actions, rewards, next_states, dones)\n",
    "\n",
    "    def __len__(self):\n",
    "        \"\"\"Return the current size of internal memory.\"\"\"\n",
    "        return len(self.memory)"
   ]
  },
  {
   "cell_type": "code",
   "execution_count": 15,
   "metadata": {},
   "outputs": [],
   "source": [
    "# ddpg_agent.py file\n",
    "# agent code\n",
    "import os\n",
    "import torch\n",
    "import torch.optim as optim\n",
    "# from model import CriticQNetwork, ActorQNetwork\n",
    "# from replaybuffers import ReplayBuffer\n",
    "\n",
    "class NewAgent:\n",
    "    \n",
    "    def __init__(self, state_size, action_size, num_agents, \n",
    "                 seed, \n",
    "                 batch_size,\n",
    "                 buffer_size,\n",
    "                 actor_lr, \n",
    "                 critic_lr, \n",
    "                 weight_decay,\n",
    "                 tau,\n",
    "                 update_every, gamma, device, \n",
    "                 checkpoint_dir=\".\"):\n",
    "        \"\"\"Initialize an Agent object.\n",
    "\n",
    "        Params\n",
    "        ======\n",
    "            state_size (int): dimension of each state\n",
    "            action_size (int): dimension of each action\n",
    "            num_agents (int): how many agents are running in each step\n",
    "            seed (int): random seed\n",
    "            batch_size (int): how many experience tuples to process at once\n",
    "            buffer_size (int): size of experience buffer\n",
    "            actor_lr (float): actor learning rate alpha\n",
    "            critic_lr (float): critic learning rate alpha\n",
    "            weight_decay (float): rate of nn weight decay for critic network\n",
    "            tau (float): soft update rate for synchronizing target and train network weights \n",
    "            update_every (int): how many env steps to train agent\n",
    "            gamma (float): reward discount factor\n",
    "            device (string): device to run PyTorch computation on (CPU, GPU)\n",
    "            checkpoint_dir (string) : where to save checkpoints (trained weights)\n",
    "        \"\"\"\n",
    "        self.num_agents = num_agents\n",
    "        self.seed = torch.manual_seed(seed)\n",
    "        self.batch_size = batch_size\n",
    "        self.buffer_size = buffer_size\n",
    "        self.tau = tau\n",
    "        \n",
    "        \n",
    "        \n",
    "        self.update_every = update_every\n",
    "        self.gamma = gamma \n",
    "        self.device = device\n",
    "       \n",
    "        \n",
    "        # NN models for \n",
    "#         network size \n",
    "        hidden_1_size = 256\n",
    "        hidden_2_size = 128\n",
    "        \n",
    "        # Critic \n",
    "        self.critic_train     = CriticQNetwork(state_size, action_size, seed, hidden_1_size, hidden_2_size).to(device)\n",
    "        self.critic_target    = CriticQNetwork(state_size, action_size, seed, hidden_1_size, hidden_2_size).to(device)\n",
    "        self.critic_optimizer = optim.Adam(self.critic_train.parameters(), lr=critic_lr, weight_decay=weight_decay)\n",
    "        # Actor\n",
    "        self.actor_train      = ActorQNetwork(state_size, action_size, seed, hidden_1_size, hidden_2_size).to(device)\n",
    "        self.actor_target     = ActorQNetwork(state_size, action_size, seed, hidden_1_size, hidden_2_size).to(device)\n",
    "        self.actor_optimizer  = optim.Adam(self.actor_train.parameters(), lr=actor_lr)\n",
    "        \n",
    "        # init Noise process\n",
    "        self.noise = OUNoise((num_agents, action_size), seed)\n",
    "        \n",
    "        # init Replay Buffer\n",
    "        self.memory = ReplayBuffer(action_size= action_size, \n",
    "                                   buffer_size=buffer_size,\n",
    "                                   batch_size=batch_size, \n",
    "                                   seed=seed,\n",
    "                                  device=device)\n",
    "        \n",
    "        self.step_counter = 0\n",
    "        self.actor_loss = 0\n",
    "        self.critic_loss = 0\n",
    "        \n",
    "        #checkpointing\n",
    "        self.checkpoint_dir   = checkpoint_dir\n",
    "        \n",
    "        self.actor_weights = self.checkpoint_dir + \"/\" + \"actor_weights.pth\"\n",
    "        self.critic_weights = self.checkpoint_dir + \"/\" + \"critic_weights.pth\"\n",
    "        \n",
    "        \n",
    "    def load_checkpoint(self):\n",
    "        if os.path.isfile(self.actor_weights) and os.path.isfile(self.critic_weights):\n",
    "            self.actor_target.load_state_dict(torch.load(self.actor_weights))\n",
    "            self.actor_train.load_state_dict(torch.load(self.actor_weights))\n",
    "            self.critic_target.load_state_dict(torch.load(self.critic_weights))\n",
    "            self.critic_train.load_state_dict(torch.load(self.critic_weights))\n",
    "            \n",
    "    def save_checkpoint(self, file_name=None):\n",
    "        actor_weights =  file_name + \"_actor_weights.pth\"  if prefix else self.actor_weights\n",
    "        critic_weights = file_name + \"_critic_weights.pth\" if prefix else self.critic_weights\n",
    "        torch.save(self.actor_train.state_dict(), actor_weights)      \n",
    "        torch.save(self.critic_train.state_dict(), critic_weights)  \n",
    "\n",
    "    def act(self, states, add_noise = True):\n",
    "        states = torch.from_numpy(states).float().to(self.device)\n",
    "        self.actor_train.eval()\n",
    "        with torch.no_grad():\n",
    "            actions = self.actor_train(states).cpu().data.numpy()\n",
    "        self.actor_train.train()\n",
    "        \n",
    "        if add_noise:\n",
    "            actions += self.noise.sample()\n",
    "        return np.clip(actions, -1, 1)\n",
    "    \n",
    "    def step(self, states, actions, rewards, next_states, dones):\n",
    "        [self.memory.add(s, a, r, s_next, d) for (s, a, r, s_next, d) \n",
    "                in zip(states, actions, rewards, next_states, dones)]\n",
    "        \n",
    "        self.step_counter += 1\n",
    "        if len(self.memory) >= self.batch_size:\n",
    "            self.learn(self.memory.sample())\n",
    "    \n",
    "    def learn(self, experiences):\n",
    "        \"\"\"Update value parameters using given batch of experience tuples.\n",
    "\n",
    "        Params\n",
    "        ======\n",
    "            experiences (Tuple[torch.Variable]): tuple of (s, a, r, s', done) tuples\n",
    "            gamma (float): discount factor\n",
    "        \"\"\"\n",
    "        states, actions, rewards, next_states, dones = experiences\n",
    "        \n",
    "       \n",
    "        # Critic training\n",
    "        target_actions_pred = self.actor_target(next_states)\n",
    "        target_pred = self.critic_target(next_states, target_actions_pred)\n",
    "        Q_target = rewards + (self.gamma * target_pred * (1 - dones))\n",
    "        \n",
    "        Q_pred = self.critic_train(states, actions)\n",
    "        \n",
    "        self.critic_optimizer.zero_grad()\n",
    "        critic_loss = F.mse_loss(Q_pred, Q_target)\n",
    "        self.critic_loss = critic_loss.data\n",
    "        critic_loss.backward()\n",
    "        self.critic_optimizer.step()\n",
    "        \n",
    "        # Actor training \n",
    "        actions_pred = self.actor_train(states)\n",
    "        actor_loss = -self.critic_train(states, actions_pred).mean()\n",
    "        self.actor_loss = actor_loss.data\n",
    "        \n",
    "        self.actor_optimizer.zero_grad()\n",
    "        actor_loss.backward()\n",
    "        self.actor_optimizer.step()\n",
    "        \n",
    "        # ------------------- update target network ------------------- #\n",
    "        self.soft_update(self.critic_train, self.critic_target, self.tau)\n",
    "        self.soft_update(self.actor_train, self.actor_target, self.tau)\n",
    "        \n",
    "        \n",
    "        \n",
    "\n",
    "    def soft_update(self, local_model, target_model, tau):\n",
    "        \"\"\"Soft update model parameters.\n",
    "        θ_target = τ*θ_local + (1 - τ)*θ_target\n",
    "\n",
    "        Params\n",
    "        ======\n",
    "            local_model (PyTorch model): weights will be copied from\n",
    "            target_model (PyTorch model): weights will be copied to\n",
    "            tau (float): interpolation parameter\n",
    "        \"\"\"\n",
    "        for target_param, local_param in zip(target_model.parameters(), local_model.parameters()):\n",
    "            target_param.data.copy_(tau*local_param.data + (1.0-tau)*target_param.data)\n",
    "        \n",
    "        \n"
   ]
  },
  {
   "cell_type": "code",
   "execution_count": 10,
   "metadata": {},
   "outputs": [],
   "source": [
    "def plot_scores_losses(scores, mean_scores, actor_losses, critic_losses):\n",
    "    import matplotlib.pyplot as plt\n",
    "\n",
    "    # len(agent.losses)\n",
    "\n",
    "    fig = plt.figure()\n",
    "    ax = fig.add_subplot(2, 1, 1)\n",
    "    plt.plot(np.arange(len(scores)), scores)\n",
    "    plt.ylabel('Score')\n",
    "    plt.xlabel('Episode #')\n",
    "    plt.show()\n",
    "\n",
    "    ax11 = fig.add_subplot(2, 1, 2)\n",
    "    plt.plot(np.arange(len(mean_scores)), mean_scores)\n",
    "    plt.ylabel('Mean Score')\n",
    "    plt.xlabel('Episode #')\n",
    "    plt.show()\n",
    "\n",
    "    ax2 = fig.add_subplot(2, 2, 3)\n",
    "    plt.plot(np.arange(len(actor_losses)), actor_losses)\n",
    "    plt.ylabel('Actor Losses')\n",
    "    plt.xlabel('Steps #')\n",
    "    plt.show()\n",
    "\n",
    "    ax3 = fig.add_subplot(2, 2, 4)\n",
    "    plt.plot(np.arange(len(critic_losses)), critic_losses)\n",
    "    plt.ylabel('Critic Losses')\n",
    "    plt.xlabel('Steps #')\n",
    "    plt.show()\n",
    "\n",
    "def train_multiple_agents(num_agents, agent, env, output_weights, target_mean_score=13.0, n_episodes = 1000, eps_decay=0.99, eps_end=0.01, input_weights = None):\n",
    "    brain_name = env.brain_names[0]\n",
    "    brain = env.brains[brain_name]\n",
    "    if input_weights:\n",
    "        print(input_weights)\n",
    "        agent.load_model_weights(input_weights)\n",
    "    \n",
    "    scores = []\n",
    "    mean_scores = []\n",
    "    actor_losses = []\n",
    "    critic_losses = []\n",
    "    eps = 0.9\n",
    "    # actor_losses_window = deque(maxlen=100)\n",
    "    # critic_losses_window = deque(maxlen=100)\n",
    "    scores_window = deque(maxlen=100)  # last 100 scores\n",
    "    for i_episode in range(1,n_episodes+1):\n",
    "        # print(\"Episonde {} start\".format(i_episode), end=\"\")\n",
    "\n",
    "        env_info = env.reset(train_mode=True)[brain_name]   # reset the environment\n",
    "        states = env_info.vector_observations               # get the current state\n",
    "        score = 0                                           # initialize the score\n",
    "        done = False                                          \n",
    "        while not(done):                                 # exit loop if episode finished\n",
    "            actions =  agent.act(states, add_noise=True)                 # select an action\n",
    "            # print(actions, actions.shape)\n",
    "            env_info = env.step(actions)[brain_name]      # send the action to the environment\n",
    "            next_states = env_info.vector_observations   # get the next state\n",
    "            rewards = env_info.rewards                   # get the reward\n",
    "            dones = env_info.local_done                  # see if episode has finished\n",
    "            agent.step(states, actions, rewards, next_states, dones) \n",
    "                    \n",
    "            actor_losses.append(agent.actor_loss)\n",
    "            critic_losses.append(agent.critic_loss)\n",
    "            score += np.mean(rewards)                           # update the score\n",
    "            states = next_states                             # roll over the state to next time step\n",
    "            done = np.any(dones)\n",
    "\n",
    "        scores_window.append(score)\n",
    "        scores.append(score)\n",
    "\n",
    "        eps = max(eps_end, eps_decay*eps)\n",
    "        mean_score = np.mean(scores_window)\n",
    "        mean_scores.append(mean_score)\n",
    "        print('\\rEpisode {}\\tAverage Score: {:.2f}'.format(i_episode, mean_score, eps), end=\"\")\n",
    "        agent.save_checkpoint()\n",
    "        if i_episode % 10 == 0:\n",
    "            print('\\rEpisode {}\\tAverage Score: {:.2f}'.format(i_episode, mean_score))\n",
    "            plot_scores_losses(scores, mean_scores, actor_losses, critic_losses)\n",
    "        if mean_score >= target_mean_score:\n",
    "            print(\"Target mean score of {:.2f} achived at {:.2f} after {} episodes.\".format(target_mean_score, mean_score, i_episode))\n",
    "                #     print(\"Score: {}\".format(score))\n",
    "            agent.save_checkpoint(path=output_weights)\n",
    "            \n",
    "            break\n",
    "    return scores"
   ]
  },
  {
   "cell_type": "code",
   "execution_count": 12,
   "metadata": {},
   "outputs": [],
   "source": [
    "actions =  agent.act(states, add_noise=True)                 # select an action\n",
    "            # print(actions, actions.shape)\n",
    "env_info = env.step(actions)[brain_name]      # send the action to the environment\n",
    "next_states = env_info.vector_observations   # get the next state\n",
    "rewards = env_info.rewards                   # get the reward\n",
    "dones = env_info.local_done                  # see if episode has finished\n",
    "# agent.step(states, actions, rewards, next_states, dones) \n",
    "\n"
   ]
  },
  {
   "cell_type": "code",
   "execution_count": 13,
   "metadata": {},
   "outputs": [
    {
     "data": {
      "text/plain": [
       "100000"
      ]
     },
     "execution_count": 13,
     "metadata": {},
     "output_type": "execute_result"
    }
   ],
   "source": [
    "agent.memory.memory.maxlen"
   ]
  },
  {
   "cell_type": "code",
   "execution_count": 14,
   "metadata": {},
   "outputs": [
    {
     "name": "stdout",
     "output_type": "stream",
     "text": [
      "0\n",
      "1\n",
      "2\n",
      "3\n",
      "4\n",
      "5\n",
      "6\n",
      "7\n",
      "8\n",
      "9\n",
      "10\n",
      "11\n",
      "12\n",
      "13\n",
      "14\n",
      "15\n",
      "16\n",
      "17\n",
      "18\n",
      "19\n"
     ]
    }
   ],
   "source": [
    "for (s, a, r, s_next, d) in zip(states, actions, rewards, next_states, dones):\n",
    "    print(len(agent.memory))\n",
    "    agent.memory.add(s, a, r, s_next, d)\n",
    "    "
   ]
  },
  {
   "cell_type": "code",
   "execution_count": 82,
   "metadata": {},
   "outputs": [
    {
     "data": {
      "text/plain": [
       "array([[ 0.19015642,  0.05220285,  0.1587571 ,  0.36229968],\n",
       "       [ 0.07650984, -0.03591636, -0.00476222, -0.37642184],\n",
       "       [ 0.11308827, -0.6802681 ,  0.81197274, -0.49480435],\n",
       "       [-0.01364741,  0.08516264, -0.05186343, -0.70540637],\n",
       "       [ 0.5135801 , -0.02349785, -0.02693737, -0.20713241],\n",
       "       [-0.0902632 ,  0.60481685, -0.08271424,  0.08269405],\n",
       "       [ 0.5401794 ,  0.16245046,  0.17905343, -0.04830385],\n",
       "       [ 0.32272345, -0.9119885 , -0.5256016 ,  0.64664024],\n",
       "       [ 0.4783802 , -0.6239626 ,  0.38052094,  0.0427371 ],\n",
       "       [ 0.19037928,  0.04520654, -0.00859364, -0.6948075 ],\n",
       "       [-0.26801077,  0.23406217, -0.8532971 , -0.27996698],\n",
       "       [ 0.0816713 , -0.14413047,  0.30066088, -0.26381555],\n",
       "       [-0.34165612,  0.10452893,  0.18002029, -0.20419249],\n",
       "       [-0.01218016,  0.54233116,  0.48644128,  0.04685143],\n",
       "       [ 0.02191565, -0.24165398, -0.7420052 ,  0.27222112],\n",
       "       [ 0.00346508,  0.40783632,  0.19831266, -0.02575582],\n",
       "       [-0.01272164, -0.8683646 ,  0.90119624, -0.43515503],\n",
       "       [-0.15738069,  0.272468  , -0.4679288 ,  0.5086294 ],\n",
       "       [ 0.07279006, -0.9293268 ,  0.17010114,  0.32225734],\n",
       "       [-0.46708435, -0.64316905, -0.23265806, -0.12213743]],\n",
       "      dtype=float32)"
      ]
     },
     "execution_count": 82,
     "metadata": {},
     "output_type": "execute_result"
    }
   ],
   "source": [
    "agent.act(states)"
   ]
  },
  {
   "cell_type": "code",
   "execution_count": 31,
   "metadata": {},
   "outputs": [],
   "source": [
    "ac = ActorQNetwork(state_size, action_size, seed=2, h_1_size=256, h_2_size=128)\n",
    "cr = CriticQNetwork(state_size, action_size, seed=2, h_1_size=256, h_2_size=128)"
   ]
  },
  {
   "cell_type": "code",
   "execution_count": 32,
   "metadata": {
    "scrolled": true
   },
   "outputs": [
    {
     "data": {
      "text/plain": [
       "tensor([[-0.4351],\n",
       "        [ 0.1482],\n",
       "        [-0.3331],\n",
       "        [ 0.0975],\n",
       "        [-0.3457],\n",
       "        [ 0.1651],\n",
       "        [-0.4083],\n",
       "        [ 0.0466],\n",
       "        [ 0.0905],\n",
       "        [-0.2108],\n",
       "        [-0.0150],\n",
       "        [-0.2719],\n",
       "        [-0.4074],\n",
       "        [ 0.1377],\n",
       "        [-0.3941],\n",
       "        [-0.2996],\n",
       "        [-0.2419],\n",
       "        [-0.1977],\n",
       "        [-0.2814],\n",
       "        [ 0.0697]])"
      ]
     },
     "execution_count": 32,
     "metadata": {},
     "output_type": "execute_result"
    }
   ],
   "source": [
    "states_t = torch.from_numpy(states).float()\n",
    "actions_t = ac(states_t )\n",
    "cr(states_t, actions_t)"
   ]
  },
  {
   "cell_type": "code",
   "execution_count": 33,
   "metadata": {},
   "outputs": [
    {
     "data": {
      "text/plain": [
       "(torch.Size([20, 33]),\n",
       " torch.Size([20, 4]),\n",
       " torch.Size([20, 256]),\n",
       " torch.Size([20, 260]))"
      ]
     },
     "execution_count": 33,
     "metadata": {},
     "output_type": "execute_result"
    }
   ],
   "source": [
    "y1 = F.relu(cr.fc_1(states_t)) # Y = W*XT + b ->  (256, 33) = (256, 33) * (33, 20) + (256,1)\n",
    "y2 = torch.cat((y1,actions_t), dim=1)         #-> (20, 260) = (20, 256) concat (20, 4)\n",
    "y3 = F.relu(cr.fc_2(y2))\n",
    "states_t.shape, actions_t.shape, y1.shape, y2.shape "
   ]
  }
 ],
 "metadata": {
  "kernelspec": {
   "display_name": "Python 3",
   "language": "python",
   "name": "python3"
  },
  "language_info": {
   "codemirror_mode": {
    "name": "ipython",
    "version": 3
   },
   "file_extension": ".py",
   "mimetype": "text/x-python",
   "name": "python",
   "nbconvert_exporter": "python",
   "pygments_lexer": "ipython3",
   "version": "3.6.8"
  }
 },
 "nbformat": 4,
 "nbformat_minor": 2
}
